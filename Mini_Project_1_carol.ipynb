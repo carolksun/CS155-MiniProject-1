{
  "nbformat": 4,
  "nbformat_minor": 0,
  "metadata": {
    "colab": {
      "name": "Mini Project 1.ipynb",
      "provenance": [],
      "collapsed_sections": [],
      "toc_visible": true
    },
    "kernelspec": {
      "name": "python3",
      "display_name": "Python 3"
    }
  },
  "cells": [
    {
      "cell_type": "code",
      "metadata": {
        "id": "ISjnD94zb1kF",
        "colab_type": "code",
        "colab": {}
      },
      "source": [
        "from sklearn.ensemble import RandomForestClassifier\n",
        "import matplotlib.pyplot as plt\n",
        "import numpy as np\n",
        "import pandas as pd\n",
        "from sklearn.model_selection import KFold\n",
        "import io\n",
        "from sklearn.metrics import roc_auc_score\n",
        "import xgboost as xgb \n",
        "from xgboost.sklearn import XGBClassifier\n",
        "from sklearn import metrics   #Additional scklearn functions\n",
        "from sklearn.model_selection import GridSearchCV\n",
        "# Seed the random number generator:\n",
        "np.random.seed(1)"
      ],
      "execution_count": 0,
      "outputs": []
    },
    {
      "cell_type": "markdown",
      "metadata": {
        "id": "NMclRrv6dMvs",
        "colab_type": "text"
      },
      "source": [
        "To upload the csv files"
      ]
    },
    {
      "cell_type": "code",
      "metadata": {
        "id": "6EOvSyd6dEkr",
        "colab_type": "code",
        "outputId": "3b7a2e58-ef56-485e-b119-a883e94ad7f9",
        "colab": {
          "resources": {
            "http://localhost:8080/nbextensions/google.colab/files.js": {
              "data": "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",
              "ok": true,
              "headers": [
                [
                  "content-type",
                  "application/javascript"
                ]
              ],
              "status": 200,
              "status_text": ""
            }
          },
          "base_uri": "https://localhost:8080/",
          "height": 399
        }
      },
      "source": [
        "\n",
        "from google.colab import files\n",
        "uploaded = files.upload()\n",
        "\n"
      ],
      "execution_count": 0,
      "outputs": [
        {
          "output_type": "display_data",
          "data": {
            "text/html": [
              "\n",
              "     <input type=\"file\" id=\"files-4b8ea570-a56c-46ca-a28c-6a40bd163fb0\" name=\"files[]\" multiple disabled />\n",
              "     <output id=\"result-4b8ea570-a56c-46ca-a28c-6a40bd163fb0\">\n",
              "      Upload widget is only available when the cell has been executed in the\n",
              "      current browser session. Please rerun this cell to enable.\n",
              "      </output>\n",
              "      <script src=\"/nbextensions/google.colab/files.js\"></script> "
            ],
            "text/plain": [
              "<IPython.core.display.HTML object>"
            ]
          },
          "metadata": {
            "tags": []
          }
        },
        {
          "output_type": "error",
          "ename": "MessageError",
          "evalue": "ignored",
          "traceback": [
            "\u001b[0;31m---------------------------------------------------------------------------\u001b[0m",
            "\u001b[0;31mMessageError\u001b[0m                              Traceback (most recent call last)",
            "\u001b[0;32m<ipython-input-4-c7412af7d834>\u001b[0m in \u001b[0;36m<module>\u001b[0;34m()\u001b[0m\n\u001b[1;32m      1\u001b[0m \u001b[0;34m\u001b[0m\u001b[0m\n\u001b[1;32m      2\u001b[0m \u001b[0;32mfrom\u001b[0m \u001b[0mgoogle\u001b[0m\u001b[0;34m.\u001b[0m\u001b[0mcolab\u001b[0m \u001b[0;32mimport\u001b[0m \u001b[0mfiles\u001b[0m\u001b[0;34m\u001b[0m\u001b[0;34m\u001b[0m\u001b[0m\n\u001b[0;32m----> 3\u001b[0;31m \u001b[0muploaded\u001b[0m \u001b[0;34m=\u001b[0m \u001b[0mfiles\u001b[0m\u001b[0;34m.\u001b[0m\u001b[0mupload\u001b[0m\u001b[0;34m(\u001b[0m\u001b[0;34m)\u001b[0m\u001b[0;34m\u001b[0m\u001b[0;34m\u001b[0m\u001b[0m\n\u001b[0m\u001b[1;32m      4\u001b[0m \u001b[0;34m\u001b[0m\u001b[0m\n",
            "\u001b[0;32m/usr/local/lib/python3.6/dist-packages/google/colab/files.py\u001b[0m in \u001b[0;36mupload\u001b[0;34m()\u001b[0m\n\u001b[1;32m     70\u001b[0m     result = _output.eval_js(\n\u001b[1;32m     71\u001b[0m         'google.colab._files._uploadFilesContinue(\"{output_id}\")'.format(\n\u001b[0;32m---> 72\u001b[0;31m             output_id=output_id))\n\u001b[0m\u001b[1;32m     73\u001b[0m     \u001b[0;32mif\u001b[0m \u001b[0mresult\u001b[0m\u001b[0;34m[\u001b[0m\u001b[0;34m'action'\u001b[0m\u001b[0;34m]\u001b[0m \u001b[0;34m!=\u001b[0m \u001b[0;34m'append'\u001b[0m\u001b[0;34m:\u001b[0m\u001b[0;34m\u001b[0m\u001b[0;34m\u001b[0m\u001b[0m\n\u001b[1;32m     74\u001b[0m       \u001b[0;31m# JS side uses a generator of promises to process all of the files- some\u001b[0m\u001b[0;34m\u001b[0m\u001b[0;34m\u001b[0m\u001b[0;34m\u001b[0m\u001b[0m\n",
            "\u001b[0;32m/usr/local/lib/python3.6/dist-packages/google/colab/output/_js.py\u001b[0m in \u001b[0;36meval_js\u001b[0;34m(script, ignore_result)\u001b[0m\n\u001b[1;32m     37\u001b[0m   \u001b[0;32mif\u001b[0m \u001b[0mignore_result\u001b[0m\u001b[0;34m:\u001b[0m\u001b[0;34m\u001b[0m\u001b[0;34m\u001b[0m\u001b[0m\n\u001b[1;32m     38\u001b[0m     \u001b[0;32mreturn\u001b[0m\u001b[0;34m\u001b[0m\u001b[0;34m\u001b[0m\u001b[0m\n\u001b[0;32m---> 39\u001b[0;31m   \u001b[0;32mreturn\u001b[0m \u001b[0m_message\u001b[0m\u001b[0;34m.\u001b[0m\u001b[0mread_reply_from_input\u001b[0m\u001b[0;34m(\u001b[0m\u001b[0mrequest_id\u001b[0m\u001b[0;34m)\u001b[0m\u001b[0;34m\u001b[0m\u001b[0;34m\u001b[0m\u001b[0m\n\u001b[0m\u001b[1;32m     40\u001b[0m \u001b[0;34m\u001b[0m\u001b[0m\n\u001b[1;32m     41\u001b[0m \u001b[0;34m\u001b[0m\u001b[0m\n",
            "\u001b[0;32m/usr/local/lib/python3.6/dist-packages/google/colab/_message.py\u001b[0m in \u001b[0;36mread_reply_from_input\u001b[0;34m(message_id, timeout_sec)\u001b[0m\n\u001b[1;32m    104\u001b[0m         reply.get('colab_msg_id') == message_id):\n\u001b[1;32m    105\u001b[0m       \u001b[0;32mif\u001b[0m \u001b[0;34m'error'\u001b[0m \u001b[0;32min\u001b[0m \u001b[0mreply\u001b[0m\u001b[0;34m:\u001b[0m\u001b[0;34m\u001b[0m\u001b[0;34m\u001b[0m\u001b[0m\n\u001b[0;32m--> 106\u001b[0;31m         \u001b[0;32mraise\u001b[0m \u001b[0mMessageError\u001b[0m\u001b[0;34m(\u001b[0m\u001b[0mreply\u001b[0m\u001b[0;34m[\u001b[0m\u001b[0;34m'error'\u001b[0m\u001b[0;34m]\u001b[0m\u001b[0;34m)\u001b[0m\u001b[0;34m\u001b[0m\u001b[0;34m\u001b[0m\u001b[0m\n\u001b[0m\u001b[1;32m    107\u001b[0m       \u001b[0;32mreturn\u001b[0m \u001b[0mreply\u001b[0m\u001b[0;34m.\u001b[0m\u001b[0mget\u001b[0m\u001b[0;34m(\u001b[0m\u001b[0;34m'data'\u001b[0m\u001b[0;34m,\u001b[0m \u001b[0;32mNone\u001b[0m\u001b[0;34m)\u001b[0m\u001b[0;34m\u001b[0m\u001b[0;34m\u001b[0m\u001b[0m\n\u001b[1;32m    108\u001b[0m \u001b[0;34m\u001b[0m\u001b[0m\n",
            "\u001b[0;31mMessageError\u001b[0m: RangeError: Maximum call stack size exceeded."
          ]
        }
      ]
    },
    {
      "cell_type": "code",
      "metadata": {
        "id": "P-yA1AAgJcIt",
        "colab_type": "code",
        "colab": {}
      },
      "source": [
        "X = pd.read_csv(\"/content/train.csv\")\n",
        "Y = pd.read_csv(\"/content/test.csv\")"
      ],
      "execution_count": 0,
      "outputs": []
    },
    {
      "cell_type": "code",
      "metadata": {
        "id": "1FYTTCTGPekx",
        "colab_type": "code",
        "colab": {}
      },
      "source": [
        "train_label = X.iloc[:, -1]\n",
        "test_label = Y.iloc[:, -1]"
      ],
      "execution_count": 0,
      "outputs": []
    },
    {
      "cell_type": "code",
      "metadata": {
        "id": "U2llSRityB3e",
        "colab_type": "code",
        "colab": {}
      },
      "source": [
        "train_data = X.fillna(X.mean())\n",
        "train_id = X[\"id\"]\n",
        "train_input = train_data.drop(\"id\", axis = 1)\n",
        "train_input['bid1_tot'] = train_input['bid1'] * train_input['bid1vol']\n",
        "train_input['bid2_tot'] = train_input['bid2'] * train_input['bid2vol']\n",
        "train_input['bid3_tot'] = train_input['bid3'] * train_input['bid3vol']\n",
        "train_input['bid4_tot'] = train_input['bid4'] * train_input['bid4vol']\n",
        "train_input['bid5_tot'] = train_input['bid5'] * train_input['bid5vol']\n",
        "\n",
        "train_input['ask1_tot'] = train_input['ask1'] * train_input['ask1vol']\n",
        "train_input['ask2_tot'] = train_input['ask2'] * train_input['ask2vol']\n",
        "train_input['ask3_tot'] = train_input['ask3'] * train_input['ask3vol']\n",
        "train_input['ask4_tot'] = train_input['ask4'] * train_input['ask4vol']\n",
        "train_input['ask5_tot'] = train_input['ask5'] * train_input['ask5vol']\n",
        "\n",
        "train_input['price_change'] = train_input['mid'] - train_input['last_price']\n",
        "\n",
        "new_df = train_input.iloc[:, [i for i in range(0, 6)] + [i for i in range(-11, 0)]]"
      ],
      "execution_count": 0,
      "outputs": []
    },
    {
      "cell_type": "code",
      "metadata": {
        "id": "TgiXuC_DPgJM",
        "colab_type": "code",
        "colab": {}
      },
      "source": [
        "test_data = Y.fillna(Y.mean())\n",
        "test_id = Y[\"id\"]\n",
        "test_input = test_data.drop(\"id\", axis = 1)\n",
        "\n",
        "test_input['bid1_tot'] = test_input['bid1'] * test_input['bid1vol']\n",
        "test_input['bid2_tot'] = test_input['bid2'] * test_input['bid2vol']\n",
        "test_input['bid3_tot'] = test_input['bid3'] * test_input['bid3vol']\n",
        "test_input['bid4_tot'] = test_input['bid4'] * test_input['bid4vol']\n",
        "test_input['bid5_tot'] = test_input['bid5'] * test_input['bid5vol']\n",
        "\n",
        "test_input['ask1_tot'] = test_input['ask1'] * test_input['ask1vol']\n",
        "test_input['ask2_tot'] = test_input['ask2'] * test_input['ask2vol']\n",
        "test_input['ask3_tot'] = test_input['ask3'] * test_input['ask3vol']\n",
        "test_input['ask4_tot'] = test_input['ask4'] * test_input['ask4vol']\n",
        "test_input['ask5_tot'] = test_input['ask5'] * test_input['ask5vol']\n",
        "\n",
        "test_input['price_change'] = test_input['mid'] - test_input['last_price']\n",
        "\n",
        "test_edited_df = test_input.iloc[:, [i for i in range(0, 6)] + [i for i in range(-11, 0)]]"
      ],
      "execution_count": 0,
      "outputs": []
    },
    {
      "cell_type": "code",
      "metadata": {
        "id": "HY9TvCHXyIGM",
        "colab_type": "code",
        "outputId": "a150bd29-5fdf-48a6-a9f6-f1e0853beb7a",
        "colab": {
          "base_uri": "https://localhost:8080/",
          "height": 241
        }
      },
      "source": [
        "model = xgb.XGBRegressor(n_estimators = 100, max_depth = 3, learning_rate = 0.1, n_jobs = 4)\n",
        "model.fit(new_df, train_label, eval_metric = 'auc')\n"
      ],
      "execution_count": 0,
      "outputs": [
        {
          "output_type": "stream",
          "text": [
            "/usr/local/lib/python3.6/dist-packages/xgboost/core.py:587: FutureWarning: Series.base is deprecated and will be removed in a future version\n",
            "  if getattr(data, 'base', None) is not None and \\\n",
            "/usr/local/lib/python3.6/dist-packages/xgboost/core.py:588: FutureWarning: Series.base is deprecated and will be removed in a future version\n",
            "  data.base is not None and isinstance(data, np.ndarray) \\\n"
          ],
          "name": "stderr"
        },
        {
          "output_type": "stream",
          "text": [
            "[22:17:09] WARNING: /workspace/src/objective/regression_obj.cu:152: reg:linear is now deprecated in favor of reg:squarederror.\n"
          ],
          "name": "stdout"
        },
        {
          "output_type": "execute_result",
          "data": {
            "text/plain": [
              "XGBRegressor(base_score=0.5, booster='gbtree', colsample_bylevel=1,\n",
              "             colsample_bynode=1, colsample_bytree=1, gamma=0,\n",
              "             importance_type='gain', learning_rate=0.1, max_delta_step=0,\n",
              "             max_depth=3, min_child_weight=1, missing=None, n_estimators=100,\n",
              "             n_jobs=4, nthread=None, objective='reg:linear', random_state=0,\n",
              "             reg_alpha=0, reg_lambda=1, scale_pos_weight=1, seed=None,\n",
              "             silent=None, subsample=1, verbosity=1)"
            ]
          },
          "metadata": {
            "tags": []
          },
          "execution_count": 29
        }
      ]
    },
    {
      "cell_type": "code",
      "metadata": {
        "id": "x9vdrN6CWW94",
        "colab_type": "code",
        "outputId": "bf1664c0-0217-47e6-b44d-ac172223f27c",
        "colab": {
          "base_uri": "https://localhost:8080/",
          "height": 51
        }
      },
      "source": [
        "importance = model.feature_importances_\n"
      ],
      "execution_count": 0,
      "outputs": [
        {
          "output_type": "stream",
          "text": [
            "/usr/local/lib/python3.6/dist-packages/xgboost/sklearn.py:546: RuntimeWarning: invalid value encountered in true_divide\n",
            "  return all_features / all_features.sum()\n"
          ],
          "name": "stderr"
        }
      ]
    },
    {
      "cell_type": "code",
      "metadata": {
        "id": "UHII5DTBXxAH",
        "colab_type": "code",
        "outputId": "40c79239-a1f6-438e-ae0c-f9470bed3b3e",
        "colab": {
          "base_uri": "https://localhost:8080/",
          "height": 439
        }
      },
      "source": [
        "new_df"
      ],
      "execution_count": 0,
      "outputs": [
        {
          "output_type": "execute_result",
          "data": {
            "text/html": [
              "<div>\n",
              "<style scoped>\n",
              "    .dataframe tbody tr th:only-of-type {\n",
              "        vertical-align: middle;\n",
              "    }\n",
              "\n",
              "    .dataframe tbody tr th {\n",
              "        vertical-align: top;\n",
              "    }\n",
              "\n",
              "    .dataframe thead th {\n",
              "        text-align: right;\n",
              "    }\n",
              "</style>\n",
              "<table border=\"1\" class=\"dataframe\">\n",
              "  <thead>\n",
              "    <tr style=\"text-align: right;\">\n",
              "      <th></th>\n",
              "      <th>last_price</th>\n",
              "      <th>mid</th>\n",
              "      <th>opened_position_qty</th>\n",
              "      <th>closed_position_qty</th>\n",
              "      <th>transacted_qty</th>\n",
              "      <th>d_open_interest</th>\n",
              "      <th>bid1_tot</th>\n",
              "      <th>bid2_tot</th>\n",
              "      <th>bid3_tot</th>\n",
              "      <th>bid4_tot</th>\n",
              "      <th>bid5_tot</th>\n",
              "      <th>ask1_tot</th>\n",
              "      <th>ask2_tot</th>\n",
              "      <th>ask3_tot</th>\n",
              "      <th>ask4_tot</th>\n",
              "      <th>ask5_tot</th>\n",
              "      <th>price_change</th>\n",
              "    </tr>\n",
              "  </thead>\n",
              "  <tbody>\n",
              "    <tr>\n",
              "      <th>0</th>\n",
              "      <td>3842.4</td>\n",
              "      <td>3842.6</td>\n",
              "      <td>1.330144</td>\n",
              "      <td>1.989035</td>\n",
              "      <td>103.0</td>\n",
              "      <td>0</td>\n",
              "      <td>30739.200000</td>\n",
              "      <td>3842.000000</td>\n",
              "      <td>23050.800000</td>\n",
              "      <td>53774.000000</td>\n",
              "      <td>23042.400000</td>\n",
              "      <td>23056.800000</td>\n",
              "      <td>3843.400000</td>\n",
              "      <td>3843.600000</td>\n",
              "      <td>38438.000000</td>\n",
              "      <td>7688.000000</td>\n",
              "      <td>0.2</td>\n",
              "    </tr>\n",
              "    <tr>\n",
              "      <th>1</th>\n",
              "      <td>3842.8</td>\n",
              "      <td>3843.4</td>\n",
              "      <td>6.000000</td>\n",
              "      <td>49.000000</td>\n",
              "      <td>55.0</td>\n",
              "      <td>-43</td>\n",
              "      <td>26901.000000</td>\n",
              "      <td>23056.800000</td>\n",
              "      <td>42266.400000</td>\n",
              "      <td>3842.000000</td>\n",
              "      <td>23050.800000</td>\n",
              "      <td>3843.800000</td>\n",
              "      <td>15376.000000</td>\n",
              "      <td>15377.600000</td>\n",
              "      <td>3844.600000</td>\n",
              "      <td>49982.400000</td>\n",
              "      <td>0.6</td>\n",
              "    </tr>\n",
              "    <tr>\n",
              "      <th>2</th>\n",
              "      <td>3844.0</td>\n",
              "      <td>3844.3</td>\n",
              "      <td>7.000000</td>\n",
              "      <td>77.000000</td>\n",
              "      <td>84.0</td>\n",
              "      <td>-69</td>\n",
              "      <td>11531.400000</td>\n",
              "      <td>3843.600000</td>\n",
              "      <td>15372.800000</td>\n",
              "      <td>80703.000000</td>\n",
              "      <td>46113.600000</td>\n",
              "      <td>3844.800000</td>\n",
              "      <td>61520.000000</td>\n",
              "      <td>38454.000000</td>\n",
              "      <td>15382.400000</td>\n",
              "      <td>34612.200000</td>\n",
              "      <td>0.3</td>\n",
              "    </tr>\n",
              "    <tr>\n",
              "      <th>3</th>\n",
              "      <td>3843.8</td>\n",
              "      <td>3843.4</td>\n",
              "      <td>3.000000</td>\n",
              "      <td>34.000000</td>\n",
              "      <td>37.0</td>\n",
              "      <td>-30</td>\n",
              "      <td>38430.000000</td>\n",
              "      <td>49956.400000</td>\n",
              "      <td>46108.800000</td>\n",
              "      <td>7684.000000</td>\n",
              "      <td>15365.600000</td>\n",
              "      <td>7687.600000</td>\n",
              "      <td>26908.000000</td>\n",
              "      <td>3844.400000</td>\n",
              "      <td>7689.200000</td>\n",
              "      <td>42292.800000</td>\n",
              "      <td>-0.4</td>\n",
              "    </tr>\n",
              "    <tr>\n",
              "      <th>4</th>\n",
              "      <td>3843.2</td>\n",
              "      <td>3843.1</td>\n",
              "      <td>3.000000</td>\n",
              "      <td>38.000000</td>\n",
              "      <td>41.0</td>\n",
              "      <td>-35</td>\n",
              "      <td>53799.200000</td>\n",
              "      <td>46108.800000</td>\n",
              "      <td>7684.000000</td>\n",
              "      <td>7683.600000</td>\n",
              "      <td>15365.600000</td>\n",
              "      <td>3843.400000</td>\n",
              "      <td>11532.000000</td>\n",
              "      <td>3844.600000</td>\n",
              "      <td>42292.800000</td>\n",
              "      <td>57675.000000</td>\n",
              "      <td>-0.1</td>\n",
              "    </tr>\n",
              "    <tr>\n",
              "      <th>...</th>\n",
              "      <td>...</td>\n",
              "      <td>...</td>\n",
              "      <td>...</td>\n",
              "      <td>...</td>\n",
              "      <td>...</td>\n",
              "      <td>...</td>\n",
              "      <td>...</td>\n",
              "      <td>...</td>\n",
              "      <td>...</td>\n",
              "      <td>...</td>\n",
              "      <td>...</td>\n",
              "      <td>...</td>\n",
              "      <td>...</td>\n",
              "      <td>...</td>\n",
              "      <td>...</td>\n",
              "      <td>...</td>\n",
              "      <td>...</td>\n",
              "    </tr>\n",
              "    <tr>\n",
              "      <th>411429</th>\n",
              "      <td>4024.0</td>\n",
              "      <td>4024.2</td>\n",
              "      <td>1.330144</td>\n",
              "      <td>1.989035</td>\n",
              "      <td>0.0</td>\n",
              "      <td>0</td>\n",
              "      <td>28168.000000</td>\n",
              "      <td>20119.000000</td>\n",
              "      <td>8047.200000</td>\n",
              "      <td>16092.800000</td>\n",
              "      <td>36207.000000</td>\n",
              "      <td>8048.800000</td>\n",
              "      <td>12073.800000</td>\n",
              "      <td>20124.000000</td>\n",
              "      <td>24150.000000</td>\n",
              "      <td>8050.400000</td>\n",
              "      <td>0.2</td>\n",
              "    </tr>\n",
              "    <tr>\n",
              "      <th>411430</th>\n",
              "      <td>4024.0</td>\n",
              "      <td>4024.2</td>\n",
              "      <td>1.330144</td>\n",
              "      <td>1.989035</td>\n",
              "      <td>0.0</td>\n",
              "      <td>0</td>\n",
              "      <td>28168.000000</td>\n",
              "      <td>20119.000000</td>\n",
              "      <td>8047.200000</td>\n",
              "      <td>16092.800000</td>\n",
              "      <td>36207.000000</td>\n",
              "      <td>8048.800000</td>\n",
              "      <td>12073.800000</td>\n",
              "      <td>20124.000000</td>\n",
              "      <td>24150.000000</td>\n",
              "      <td>8050.400000</td>\n",
              "      <td>0.2</td>\n",
              "    </tr>\n",
              "    <tr>\n",
              "      <th>411431</th>\n",
              "      <td>4024.0</td>\n",
              "      <td>4024.2</td>\n",
              "      <td>1.330144</td>\n",
              "      <td>1.989035</td>\n",
              "      <td>0.0</td>\n",
              "      <td>0</td>\n",
              "      <td>28168.000000</td>\n",
              "      <td>20119.000000</td>\n",
              "      <td>8047.200000</td>\n",
              "      <td>16092.800000</td>\n",
              "      <td>36207.000000</td>\n",
              "      <td>8048.800000</td>\n",
              "      <td>12073.800000</td>\n",
              "      <td>20124.000000</td>\n",
              "      <td>24150.000000</td>\n",
              "      <td>8050.400000</td>\n",
              "      <td>0.2</td>\n",
              "    </tr>\n",
              "    <tr>\n",
              "      <th>411432</th>\n",
              "      <td>4024.4</td>\n",
              "      <td>4024.2</td>\n",
              "      <td>0.000000</td>\n",
              "      <td>1.000000</td>\n",
              "      <td>1.0</td>\n",
              "      <td>0</td>\n",
              "      <td>24144.000000</td>\n",
              "      <td>20119.000000</td>\n",
              "      <td>8047.200000</td>\n",
              "      <td>16092.800000</td>\n",
              "      <td>36207.000000</td>\n",
              "      <td>4024.400000</td>\n",
              "      <td>12073.800000</td>\n",
              "      <td>20124.000000</td>\n",
              "      <td>24150.000000</td>\n",
              "      <td>8050.400000</td>\n",
              "      <td>-0.2</td>\n",
              "    </tr>\n",
              "    <tr>\n",
              "      <th>411433</th>\n",
              "      <td>4024.4</td>\n",
              "      <td>4024.2</td>\n",
              "      <td>1.330144</td>\n",
              "      <td>1.989035</td>\n",
              "      <td>0.0</td>\n",
              "      <td>0</td>\n",
              "      <td>15570.251895</td>\n",
              "      <td>20345.318151</td>\n",
              "      <td>22273.866381</td>\n",
              "      <td>23685.653341</td>\n",
              "      <td>25254.688968</td>\n",
              "      <td>15806.397271</td>\n",
              "      <td>20255.554643</td>\n",
              "      <td>22020.405255</td>\n",
              "      <td>23.200375</td>\n",
              "      <td>24227.359799</td>\n",
              "      <td>-0.2</td>\n",
              "    </tr>\n",
              "  </tbody>\n",
              "</table>\n",
              "<p>411434 rows × 17 columns</p>\n",
              "</div>"
            ],
            "text/plain": [
              "        last_price     mid  ...      ask5_tot  price_change\n",
              "0           3842.4  3842.6  ...   7688.000000           0.2\n",
              "1           3842.8  3843.4  ...  49982.400000           0.6\n",
              "2           3844.0  3844.3  ...  34612.200000           0.3\n",
              "3           3843.8  3843.4  ...  42292.800000          -0.4\n",
              "4           3843.2  3843.1  ...  57675.000000          -0.1\n",
              "...            ...     ...  ...           ...           ...\n",
              "411429      4024.0  4024.2  ...   8050.400000           0.2\n",
              "411430      4024.0  4024.2  ...   8050.400000           0.2\n",
              "411431      4024.0  4024.2  ...   8050.400000           0.2\n",
              "411432      4024.4  4024.2  ...   8050.400000          -0.2\n",
              "411433      4024.4  4024.2  ...  24227.359799          -0.2\n",
              "\n",
              "[411434 rows x 17 columns]"
            ]
          },
          "metadata": {
            "tags": []
          },
          "execution_count": 34
        }
      ]
    },
    {
      "cell_type": "code",
      "metadata": {
        "id": "CM4IJjJh6v87",
        "colab_type": "code",
        "colab": {}
      },
      "source": [
        "predictions = pd.DataFrame({'id': np.array(test_id), 'Predicted': model.predict(test_edited_df)}, columns=['id', 'Predicted'])\n",
        "predictions.to_csv(\"/content/predictions_XGBR_100_3_fixedbid1.csv\", index = False)"
      ],
      "execution_count": 0,
      "outputs": []
    },
    {
      "cell_type": "code",
      "metadata": {
        "id": "lST5EXOT0ynV",
        "colab_type": "code",
        "outputId": "d0a002b1-0571-47fb-9d9f-15d61695c4ae",
        "colab": {
          "base_uri": "https://localhost:8080/",
          "height": 429
        }
      },
      "source": [
        "model = xgb.XGBRegressor(n_estimators = 200, max_depth = 4, learning_rate = 0.1, n_jobs = 4)\n",
        "num_folds = 5\n",
        "kf = KFold(n_splits=num_folds)\n",
        "test_preds = []\n",
        "for train_index, test_index in kf.split(new_df):\n",
        "    # Training and testing data points for this fold:\n",
        "    x_train, x_test = new_df.iloc[train_index], new_df.iloc[test_index]\n",
        "    y_train, y_test = train_label.iloc[train_index], train_label.iloc[test_index]\n",
        "    model.fit(x_train, y_train, eval_metric = 'auc')\n",
        "    test_preds.append(model.predict(test_edited_df))"
      ],
      "execution_count": 0,
      "outputs": [
        {
          "output_type": "stream",
          "text": [
            "/usr/local/lib/python3.6/dist-packages/xgboost/core.py:587: FutureWarning: Series.base is deprecated and will be removed in a future version\n",
            "  if getattr(data, 'base', None) is not None and \\\n"
          ],
          "name": "stderr"
        },
        {
          "output_type": "stream",
          "text": [
            "[01:00:07] WARNING: /workspace/src/objective/regression_obj.cu:152: reg:linear is now deprecated in favor of reg:squarederror.\n"
          ],
          "name": "stdout"
        },
        {
          "output_type": "error",
          "ename": "KeyboardInterrupt",
          "evalue": "ignored",
          "traceback": [
            "\u001b[0;31m---------------------------------------------------------------------------\u001b[0m",
            "\u001b[0;31mKeyboardInterrupt\u001b[0m                         Traceback (most recent call last)",
            "\u001b[0;32m<ipython-input-20-5211ad3d59ac>\u001b[0m in \u001b[0;36m<module>\u001b[0;34m()\u001b[0m\n\u001b[1;32m      7\u001b[0m     \u001b[0mx_train\u001b[0m\u001b[0;34m,\u001b[0m \u001b[0mx_test\u001b[0m \u001b[0;34m=\u001b[0m \u001b[0mnew_df\u001b[0m\u001b[0;34m.\u001b[0m\u001b[0miloc\u001b[0m\u001b[0;34m[\u001b[0m\u001b[0mtrain_index\u001b[0m\u001b[0;34m]\u001b[0m\u001b[0;34m,\u001b[0m \u001b[0mnew_df\u001b[0m\u001b[0;34m.\u001b[0m\u001b[0miloc\u001b[0m\u001b[0;34m[\u001b[0m\u001b[0mtest_index\u001b[0m\u001b[0;34m]\u001b[0m\u001b[0;34m\u001b[0m\u001b[0;34m\u001b[0m\u001b[0m\n\u001b[1;32m      8\u001b[0m     \u001b[0my_train\u001b[0m\u001b[0;34m,\u001b[0m \u001b[0my_test\u001b[0m \u001b[0;34m=\u001b[0m \u001b[0mtrain_label\u001b[0m\u001b[0;34m.\u001b[0m\u001b[0miloc\u001b[0m\u001b[0;34m[\u001b[0m\u001b[0mtrain_index\u001b[0m\u001b[0;34m]\u001b[0m\u001b[0;34m,\u001b[0m \u001b[0mtrain_label\u001b[0m\u001b[0;34m.\u001b[0m\u001b[0miloc\u001b[0m\u001b[0;34m[\u001b[0m\u001b[0mtest_index\u001b[0m\u001b[0;34m]\u001b[0m\u001b[0;34m\u001b[0m\u001b[0;34m\u001b[0m\u001b[0m\n\u001b[0;32m----> 9\u001b[0;31m     \u001b[0mmodel\u001b[0m\u001b[0;34m.\u001b[0m\u001b[0mfit\u001b[0m\u001b[0;34m(\u001b[0m\u001b[0mx_train\u001b[0m\u001b[0;34m,\u001b[0m \u001b[0my_train\u001b[0m\u001b[0;34m,\u001b[0m \u001b[0meval_metric\u001b[0m \u001b[0;34m=\u001b[0m \u001b[0;34m'auc'\u001b[0m\u001b[0;34m)\u001b[0m\u001b[0;34m\u001b[0m\u001b[0;34m\u001b[0m\u001b[0m\n\u001b[0m\u001b[1;32m     10\u001b[0m     \u001b[0mtest_preds\u001b[0m\u001b[0;34m.\u001b[0m\u001b[0mappend\u001b[0m\u001b[0;34m(\u001b[0m\u001b[0mmodel\u001b[0m\u001b[0;34m.\u001b[0m\u001b[0mpredict\u001b[0m\u001b[0;34m(\u001b[0m\u001b[0mtest_edited_df\u001b[0m\u001b[0;34m)\u001b[0m\u001b[0;34m)\u001b[0m\u001b[0;34m\u001b[0m\u001b[0;34m\u001b[0m\u001b[0m\n",
            "\u001b[0;32m/usr/local/lib/python3.6/dist-packages/xgboost/sklearn.py\u001b[0m in \u001b[0;36mfit\u001b[0;34m(self, X, y, sample_weight, eval_set, eval_metric, early_stopping_rounds, verbose, xgb_model, sample_weight_eval_set, callbacks)\u001b[0m\n\u001b[1;32m    394\u001b[0m                               \u001b[0mevals_result\u001b[0m\u001b[0;34m=\u001b[0m\u001b[0mevals_result\u001b[0m\u001b[0;34m,\u001b[0m \u001b[0mobj\u001b[0m\u001b[0;34m=\u001b[0m\u001b[0mobj\u001b[0m\u001b[0;34m,\u001b[0m \u001b[0mfeval\u001b[0m\u001b[0;34m=\u001b[0m\u001b[0mfeval\u001b[0m\u001b[0;34m,\u001b[0m\u001b[0;34m\u001b[0m\u001b[0;34m\u001b[0m\u001b[0m\n\u001b[1;32m    395\u001b[0m                               \u001b[0mverbose_eval\u001b[0m\u001b[0;34m=\u001b[0m\u001b[0mverbose\u001b[0m\u001b[0;34m,\u001b[0m \u001b[0mxgb_model\u001b[0m\u001b[0;34m=\u001b[0m\u001b[0mxgb_model\u001b[0m\u001b[0;34m,\u001b[0m\u001b[0;34m\u001b[0m\u001b[0;34m\u001b[0m\u001b[0m\n\u001b[0;32m--> 396\u001b[0;31m                               callbacks=callbacks)\n\u001b[0m\u001b[1;32m    397\u001b[0m \u001b[0;34m\u001b[0m\u001b[0m\n\u001b[1;32m    398\u001b[0m         \u001b[0;32mif\u001b[0m \u001b[0mevals_result\u001b[0m\u001b[0;34m:\u001b[0m\u001b[0;34m\u001b[0m\u001b[0;34m\u001b[0m\u001b[0m\n",
            "\u001b[0;32m/usr/local/lib/python3.6/dist-packages/xgboost/training.py\u001b[0m in \u001b[0;36mtrain\u001b[0;34m(params, dtrain, num_boost_round, evals, obj, feval, maximize, early_stopping_rounds, evals_result, verbose_eval, xgb_model, callbacks, learning_rates)\u001b[0m\n\u001b[1;32m    214\u001b[0m                            \u001b[0mevals\u001b[0m\u001b[0;34m=\u001b[0m\u001b[0mevals\u001b[0m\u001b[0;34m,\u001b[0m\u001b[0;34m\u001b[0m\u001b[0;34m\u001b[0m\u001b[0m\n\u001b[1;32m    215\u001b[0m                            \u001b[0mobj\u001b[0m\u001b[0;34m=\u001b[0m\u001b[0mobj\u001b[0m\u001b[0;34m,\u001b[0m \u001b[0mfeval\u001b[0m\u001b[0;34m=\u001b[0m\u001b[0mfeval\u001b[0m\u001b[0;34m,\u001b[0m\u001b[0;34m\u001b[0m\u001b[0;34m\u001b[0m\u001b[0m\n\u001b[0;32m--> 216\u001b[0;31m                            xgb_model=xgb_model, callbacks=callbacks)\n\u001b[0m\u001b[1;32m    217\u001b[0m \u001b[0;34m\u001b[0m\u001b[0m\n\u001b[1;32m    218\u001b[0m \u001b[0;34m\u001b[0m\u001b[0m\n",
            "\u001b[0;32m/usr/local/lib/python3.6/dist-packages/xgboost/training.py\u001b[0m in \u001b[0;36m_train_internal\u001b[0;34m(params, dtrain, num_boost_round, evals, obj, feval, xgb_model, callbacks)\u001b[0m\n\u001b[1;32m     72\u001b[0m         \u001b[0;31m# Skip the first update if it is a recovery step.\u001b[0m\u001b[0;34m\u001b[0m\u001b[0;34m\u001b[0m\u001b[0;34m\u001b[0m\u001b[0m\n\u001b[1;32m     73\u001b[0m         \u001b[0;32mif\u001b[0m \u001b[0mversion\u001b[0m \u001b[0;34m%\u001b[0m \u001b[0;36m2\u001b[0m \u001b[0;34m==\u001b[0m \u001b[0;36m0\u001b[0m\u001b[0;34m:\u001b[0m\u001b[0;34m\u001b[0m\u001b[0;34m\u001b[0m\u001b[0m\n\u001b[0;32m---> 74\u001b[0;31m             \u001b[0mbst\u001b[0m\u001b[0;34m.\u001b[0m\u001b[0mupdate\u001b[0m\u001b[0;34m(\u001b[0m\u001b[0mdtrain\u001b[0m\u001b[0;34m,\u001b[0m \u001b[0mi\u001b[0m\u001b[0;34m,\u001b[0m \u001b[0mobj\u001b[0m\u001b[0;34m)\u001b[0m\u001b[0;34m\u001b[0m\u001b[0;34m\u001b[0m\u001b[0m\n\u001b[0m\u001b[1;32m     75\u001b[0m             \u001b[0mbst\u001b[0m\u001b[0;34m.\u001b[0m\u001b[0msave_rabit_checkpoint\u001b[0m\u001b[0;34m(\u001b[0m\u001b[0;34m)\u001b[0m\u001b[0;34m\u001b[0m\u001b[0;34m\u001b[0m\u001b[0m\n\u001b[1;32m     76\u001b[0m             \u001b[0mversion\u001b[0m \u001b[0;34m+=\u001b[0m \u001b[0;36m1\u001b[0m\u001b[0;34m\u001b[0m\u001b[0;34m\u001b[0m\u001b[0m\n",
            "\u001b[0;32m/usr/local/lib/python3.6/dist-packages/xgboost/core.py\u001b[0m in \u001b[0;36mupdate\u001b[0;34m(self, dtrain, iteration, fobj)\u001b[0m\n\u001b[1;32m   1107\u001b[0m         \u001b[0;32mif\u001b[0m \u001b[0mfobj\u001b[0m \u001b[0;32mis\u001b[0m \u001b[0;32mNone\u001b[0m\u001b[0;34m:\u001b[0m\u001b[0;34m\u001b[0m\u001b[0;34m\u001b[0m\u001b[0m\n\u001b[1;32m   1108\u001b[0m             _check_call(_LIB.XGBoosterUpdateOneIter(self.handle, ctypes.c_int(iteration),\n\u001b[0;32m-> 1109\u001b[0;31m                                                     dtrain.handle))\n\u001b[0m\u001b[1;32m   1110\u001b[0m         \u001b[0;32melse\u001b[0m\u001b[0;34m:\u001b[0m\u001b[0;34m\u001b[0m\u001b[0;34m\u001b[0m\u001b[0m\n\u001b[1;32m   1111\u001b[0m             \u001b[0mpred\u001b[0m \u001b[0;34m=\u001b[0m \u001b[0mself\u001b[0m\u001b[0;34m.\u001b[0m\u001b[0mpredict\u001b[0m\u001b[0;34m(\u001b[0m\u001b[0mdtrain\u001b[0m\u001b[0;34m)\u001b[0m\u001b[0;34m\u001b[0m\u001b[0;34m\u001b[0m\u001b[0m\n",
            "\u001b[0;31mKeyboardInterrupt\u001b[0m: "
          ]
        }
      ]
    },
    {
      "cell_type": "code",
      "metadata": {
        "id": "SkF6hhx517Or",
        "colab_type": "code",
        "outputId": "3013e058-8eb4-4f5d-8f58-dbb3fd944c94",
        "colab": {
          "base_uri": "https://localhost:8080/",
          "height": 51
        }
      },
      "source": [
        "np.mean(test_preds, axis = 0)"
      ],
      "execution_count": 0,
      "outputs": [
        {
          "output_type": "execute_result",
          "data": {
            "text/plain": [
              "array([0.60777926, 0.25202194, 0.2528187 , ..., 0.49297348, 0.37555057,\n",
              "       0.4307537 ], dtype=float32)"
            ]
          },
          "metadata": {
            "tags": []
          },
          "execution_count": 18
        }
      ]
    },
    {
      "cell_type": "code",
      "metadata": {
        "id": "elSth0aDnBCy",
        "colab_type": "code",
        "colab": {}
      },
      "source": [
        "def modelfit(alg, dtrain, predictors,useTrainCV=False, cv_folds=2, early_stopping_rounds=50):\n",
        "    \n",
        "    if useTrainCV:\n",
        "        xgb_param = alg.get_xgb_params()\n",
        "        xgtrain = xgb.DMatrix(dtrain, label=train_label)\n",
        "        cvresult = xgb.cv(xgb_param, xgtrain, num_boost_round=alg.get_params()['n_estimators'], nfold=cv_folds,\n",
        "            metrics='auc', early_stopping_rounds=early_stopping_rounds)\n",
        "        alg.set_params(n_estimators=cvresult.shape[0])\n",
        "    \n",
        "    #Fit the algorithm on the data\n",
        "    alg.fit(dtrain[predictors], train_label,eval_metric='auc')\n",
        "        \n",
        "    #Predict training set:\n",
        "    dtrain_predprob = alg.predict(dtrain[predictors])\n",
        "        \n",
        "    #Print model report:\n",
        "    print (\"\\nModel Report\")\n",
        "    print (\"AUC Score (Train): %f\" % metrics.roc_auc_score(train_label, dtrain_predprob))\n",
        "    return alg.predict(test_edited_df)"
      ],
      "execution_count": 0,
      "outputs": []
    },
    {
      "cell_type": "code",
      "metadata": {
        "id": "Ny4hhXdMnxyi",
        "colab_type": "code",
        "outputId": "920359f1-ac41-4fed-d1f7-14951eb984e9",
        "colab": {
          "base_uri": "https://localhost:8080/",
          "height": 156
        }
      },
      "source": [
        "predictors = [x for x in new_df]\n",
        "xgb1 = xgb.XGBRegressor(\n",
        " learning_rate =0.1,\n",
        " n_estimators=100,\n",
        " max_depth=5,\n",
        " min_child_weight=1,\n",
        " gamma=0,\n",
        " subsample=0.8,\n",
        " colsample_bytree=0.8,\n",
        " objective= 'binary:logistic',\n",
        " nthread=4,\n",
        " scale_pos_weight=1,\n",
        " seed=27)\n",
        "predictions = modelfit(xgb1, new_df, predictors)"
      ],
      "execution_count": 0,
      "outputs": [
        {
          "output_type": "stream",
          "text": [
            "/usr/local/lib/python3.6/dist-packages/xgboost/core.py:587: FutureWarning: Series.base is deprecated and will be removed in a future version\n",
            "  if getattr(data, 'base', None) is not None and \\\n",
            "/usr/local/lib/python3.6/dist-packages/xgboost/core.py:588: FutureWarning: Series.base is deprecated and will be removed in a future version\n",
            "  data.base is not None and isinstance(data, np.ndarray) \\\n"
          ],
          "name": "stderr"
        },
        {
          "output_type": "stream",
          "text": [
            "\n",
            "Model Report\n",
            "AUC Score (Train): 0.668092\n"
          ],
          "name": "stdout"
        }
      ]
    },
    {
      "cell_type": "code",
      "metadata": {
        "id": "K3jKOYdDvbf7",
        "colab_type": "code",
        "outputId": "fb455522-0c1c-4dd4-f387-4cda31e90c9d",
        "colab": {
          "base_uri": "https://localhost:8080/",
          "height": 428
        }
      },
      "source": [
        "param_test1 = {\n",
        " 'max_depth':range(3,10,2),\n",
        " 'min_child_weight':range(1,6,2)\n",
        "}\n",
        "gsearch1 = GridSearchCV(estimator = xgb.XGBRegressor( learning_rate =0.1, n_estimators=100, max_depth=3,\n",
        " min_child_weight=1, gamma=0, subsample=0.8, colsample_bytree=0.8,\n",
        " objective= 'binary:logistic', n_jobs = -1, scale_pos_weight=1, seed=27), \n",
        " param_grid = param_test1, scoring='roc_auc',n_jobs=4,iid=False, cv=3)\n",
        "gsearch1.fit(new_df,train_label)"
      ],
      "execution_count": 0,
      "outputs": [
        {
          "output_type": "stream",
          "text": [
            "/usr/local/lib/python3.6/dist-packages/sklearn/model_selection/_search.py:823: FutureWarning: The parameter 'iid' is deprecated in 0.22 and will be removed in 0.24.\n",
            "  \"removed in 0.24.\", FutureWarning\n",
            "/usr/local/lib/python3.6/dist-packages/xgboost/core.py:587: FutureWarning: Series.base is deprecated and will be removed in a future version\n",
            "  if getattr(data, 'base', None) is not None and \\\n",
            "/usr/local/lib/python3.6/dist-packages/xgboost/core.py:588: FutureWarning: Series.base is deprecated and will be removed in a future version\n",
            "  data.base is not None and isinstance(data, np.ndarray) \\\n"
          ],
          "name": "stderr"
        },
        {
          "output_type": "execute_result",
          "data": {
            "text/plain": [
              "GridSearchCV(cv=3, error_score=nan,\n",
              "             estimator=XGBRegressor(base_score=0.5, booster='gbtree',\n",
              "                                    colsample_bylevel=1, colsample_bynode=1,\n",
              "                                    colsample_bytree=0.8, gamma=0,\n",
              "                                    importance_type='gain', learning_rate=0.1,\n",
              "                                    max_delta_step=0, max_depth=3,\n",
              "                                    min_child_weight=1, missing=None,\n",
              "                                    n_estimators=100, n_jobs=-1, nthread=None,\n",
              "                                    objective='binary:logistic', random_state=0,\n",
              "                                    reg_alpha=0, reg_lambda=1,\n",
              "                                    scale_pos_weight=1, seed=27, silent=None,\n",
              "                                    subsample=0.8, verbosity=1),\n",
              "             iid=False, n_jobs=4,\n",
              "             param_grid={'max_depth': range(3, 10, 2),\n",
              "                         'min_child_weight': range(1, 6, 2)},\n",
              "             pre_dispatch='2*n_jobs', refit=True, return_train_score=False,\n",
              "             scoring='roc_auc', verbose=0)"
            ]
          },
          "metadata": {
            "tags": []
          },
          "execution_count": 64
        }
      ]
    },
    {
      "cell_type": "code",
      "metadata": {
        "id": "XnMSbncPoR7u",
        "colab_type": "code",
        "colab": {}
      },
      "source": [
        "predictions = pd.DataFrame({'id': np.array(test_id), 'Predicted': gsearch1.predict(test_edited_df)}, columns=['id', 'Predicted'])\n",
        "predictions.to_csv(\"/content/predictions_XGBR_gridsearch.csv\", index = False)"
      ],
      "execution_count": 0,
      "outputs": []
    },
    {
      "cell_type": "code",
      "metadata": {
        "id": "spoWuZVmRNdD",
        "colab_type": "code",
        "colab": {}
      },
      "source": [
        "train = pd.read_csv(\"/content/norm_train_input.csv\")\n",
        "test = pd.read_csv(\"/content/norm_test_input.csv\")"
      ],
      "execution_count": 0,
      "outputs": []
    },
    {
      "cell_type": "code",
      "metadata": {
        "id": "bCUsRBzaRRPO",
        "colab_type": "code",
        "colab": {}
      },
      "source": [
        "new_df = train.iloc[:, :-1]\n",
        "new_df = new_df.drop(\"id\", axis = 1)\n",
        "test_df = test.iloc[:, :-1]\n",
        "test_df = test_df.drop(\"id\", axis = 1)\n"
      ],
      "execution_count": 0,
      "outputs": []
    },
    {
      "cell_type": "code",
      "metadata": {
        "id": "fPJY0U3DRb4I",
        "colab_type": "code",
        "outputId": "4e1edc0b-37ba-4f02-b163-e4bdfb46428d",
        "colab": {
          "base_uri": "https://localhost:8080/",
          "height": 439
        }
      },
      "source": [
        "test_df"
      ],
      "execution_count": 0,
      "outputs": [
        {
          "output_type": "execute_result",
          "data": {
            "text/html": [
              "<div>\n",
              "<style scoped>\n",
              "    .dataframe tbody tr th:only-of-type {\n",
              "        vertical-align: middle;\n",
              "    }\n",
              "\n",
              "    .dataframe tbody tr th {\n",
              "        vertical-align: top;\n",
              "    }\n",
              "\n",
              "    .dataframe thead th {\n",
              "        text-align: right;\n",
              "    }\n",
              "</style>\n",
              "<table border=\"1\" class=\"dataframe\">\n",
              "  <thead>\n",
              "    <tr style=\"text-align: right;\">\n",
              "      <th></th>\n",
              "      <th>last_price</th>\n",
              "      <th>mid</th>\n",
              "      <th>opened_position_qty</th>\n",
              "      <th>closed_position_qty</th>\n",
              "      <th>transacted_qty</th>\n",
              "      <th>d_open_interest</th>\n",
              "      <th>bid1tot</th>\n",
              "      <th>ask1tot</th>\n",
              "      <th>bid2tot</th>\n",
              "      <th>ask2tot</th>\n",
              "      <th>bid3tot</th>\n",
              "      <th>ask3tot</th>\n",
              "      <th>bid4tot</th>\n",
              "      <th>ask4tot</th>\n",
              "      <th>bid5tot</th>\n",
              "      <th>ask5tot</th>\n",
              "    </tr>\n",
              "  </thead>\n",
              "  <tbody>\n",
              "    <tr>\n",
              "      <th>0</th>\n",
              "      <td>0.520535</td>\n",
              "      <td>0.520992</td>\n",
              "      <td>0.017857</td>\n",
              "      <td>0.113872</td>\n",
              "      <td>0.086957</td>\n",
              "      <td>0.500000</td>\n",
              "      <td>0.017042</td>\n",
              "      <td>0.000216</td>\n",
              "      <td>0.125594</td>\n",
              "      <td>0.028647</td>\n",
              "      <td>0.016899</td>\n",
              "      <td>0.000195</td>\n",
              "      <td>0.000177</td>\n",
              "      <td>0.035748</td>\n",
              "      <td>0.000180</td>\n",
              "      <td>0.009078</td>\n",
              "    </tr>\n",
              "    <tr>\n",
              "      <th>1</th>\n",
              "      <td>0.303725</td>\n",
              "      <td>0.304389</td>\n",
              "      <td>0.017857</td>\n",
              "      <td>0.000000</td>\n",
              "      <td>0.007246</td>\n",
              "      <td>0.598214</td>\n",
              "      <td>0.000105</td>\n",
              "      <td>0.030647</td>\n",
              "      <td>0.008391</td>\n",
              "      <td>0.065911</td>\n",
              "      <td>0.008392</td>\n",
              "      <td>0.000114</td>\n",
              "      <td>0.000104</td>\n",
              "      <td>0.000108</td>\n",
              "      <td>0.075952</td>\n",
              "      <td>0.000108</td>\n",
              "    </tr>\n",
              "    <tr>\n",
              "      <th>2</th>\n",
              "      <td>0.515759</td>\n",
              "      <td>0.519561</td>\n",
              "      <td>0.035714</td>\n",
              "      <td>0.000000</td>\n",
              "      <td>0.014493</td>\n",
              "      <td>0.607143</td>\n",
              "      <td>0.059188</td>\n",
              "      <td>0.061804</td>\n",
              "      <td>0.142282</td>\n",
              "      <td>0.028650</td>\n",
              "      <td>0.000175</td>\n",
              "      <td>0.000196</td>\n",
              "      <td>0.000175</td>\n",
              "      <td>0.009077</td>\n",
              "      <td>0.042676</td>\n",
              "      <td>0.035752</td>\n",
              "    </tr>\n",
              "    <tr>\n",
              "      <th>3</th>\n",
              "      <td>0.115568</td>\n",
              "      <td>0.118321</td>\n",
              "      <td>0.000000</td>\n",
              "      <td>0.020704</td>\n",
              "      <td>0.014493</td>\n",
              "      <td>0.580357</td>\n",
              "      <td>0.058093</td>\n",
              "      <td>0.000050</td>\n",
              "      <td>0.032935</td>\n",
              "      <td>0.000046</td>\n",
              "      <td>0.024711</td>\n",
              "      <td>0.091594</td>\n",
              "      <td>0.016484</td>\n",
              "      <td>0.043775</td>\n",
              "      <td>0.000040</td>\n",
              "      <td>0.008788</td>\n",
              "    </tr>\n",
              "    <tr>\n",
              "      <th>4</th>\n",
              "      <td>0.572111</td>\n",
              "      <td>0.572996</td>\n",
              "      <td>0.000000</td>\n",
              "      <td>0.000000</td>\n",
              "      <td>0.000000</td>\n",
              "      <td>0.589286</td>\n",
              "      <td>0.000196</td>\n",
              "      <td>0.020810</td>\n",
              "      <td>0.033707</td>\n",
              "      <td>0.009726</td>\n",
              "      <td>0.000194</td>\n",
              "      <td>0.000217</td>\n",
              "      <td>0.016949</td>\n",
              "      <td>0.018028</td>\n",
              "      <td>0.017236</td>\n",
              "      <td>0.026940</td>\n",
              "    </tr>\n",
              "    <tr>\n",
              "      <th>...</th>\n",
              "      <td>...</td>\n",
              "      <td>...</td>\n",
              "      <td>...</td>\n",
              "      <td>...</td>\n",
              "      <td>...</td>\n",
              "      <td>...</td>\n",
              "      <td>...</td>\n",
              "      <td>...</td>\n",
              "      <td>...</td>\n",
              "      <td>...</td>\n",
              "      <td>...</td>\n",
              "      <td>...</td>\n",
              "      <td>...</td>\n",
              "      <td>...</td>\n",
              "      <td>...</td>\n",
              "      <td>...</td>\n",
              "    </tr>\n",
              "    <tr>\n",
              "      <th>191854</th>\n",
              "      <td>0.387775</td>\n",
              "      <td>0.389790</td>\n",
              "      <td>0.000000</td>\n",
              "      <td>0.000000</td>\n",
              "      <td>0.000000</td>\n",
              "      <td>0.589286</td>\n",
              "      <td>0.000134</td>\n",
              "      <td>0.000162</td>\n",
              "      <td>0.033398</td>\n",
              "      <td>0.019015</td>\n",
              "      <td>0.016765</td>\n",
              "      <td>0.000146</td>\n",
              "      <td>0.025080</td>\n",
              "      <td>0.017827</td>\n",
              "      <td>0.008592</td>\n",
              "      <td>0.008984</td>\n",
              "    </tr>\n",
              "    <tr>\n",
              "      <th>191855</th>\n",
              "      <td>0.254059</td>\n",
              "      <td>0.255725</td>\n",
              "      <td>0.017857</td>\n",
              "      <td>0.020704</td>\n",
              "      <td>0.021739</td>\n",
              "      <td>0.580357</td>\n",
              "      <td>0.016770</td>\n",
              "      <td>0.152410</td>\n",
              "      <td>0.000087</td>\n",
              "      <td>0.150186</td>\n",
              "      <td>0.033172</td>\n",
              "      <td>0.027712</td>\n",
              "      <td>0.000087</td>\n",
              "      <td>0.000090</td>\n",
              "      <td>0.159883</td>\n",
              "      <td>0.132021</td>\n",
              "    </tr>\n",
              "    <tr>\n",
              "      <th>191856</th>\n",
              "      <td>0.589303</td>\n",
              "      <td>0.587786</td>\n",
              "      <td>0.000000</td>\n",
              "      <td>0.000000</td>\n",
              "      <td>0.000000</td>\n",
              "      <td>0.589286</td>\n",
              "      <td>0.000201</td>\n",
              "      <td>0.000244</td>\n",
              "      <td>0.008582</td>\n",
              "      <td>0.009734</td>\n",
              "      <td>0.000199</td>\n",
              "      <td>0.000221</td>\n",
              "      <td>0.000198</td>\n",
              "      <td>0.009125</td>\n",
              "      <td>0.000201</td>\n",
              "      <td>0.000209</td>\n",
              "    </tr>\n",
              "    <tr>\n",
              "      <th>191857</th>\n",
              "      <td>0.394460</td>\n",
              "      <td>0.395038</td>\n",
              "      <td>0.071429</td>\n",
              "      <td>0.020704</td>\n",
              "      <td>0.043478</td>\n",
              "      <td>0.607143</td>\n",
              "      <td>0.025302</td>\n",
              "      <td>0.061433</td>\n",
              "      <td>0.033408</td>\n",
              "      <td>0.000151</td>\n",
              "      <td>0.041726</td>\n",
              "      <td>0.009406</td>\n",
              "      <td>0.058360</td>\n",
              "      <td>0.000140</td>\n",
              "      <td>0.304643</td>\n",
              "      <td>0.000140</td>\n",
              "    </tr>\n",
              "    <tr>\n",
              "      <th>191858</th>\n",
              "      <td>0.623687</td>\n",
              "      <td>0.625954</td>\n",
              "      <td>0.035714</td>\n",
              "      <td>0.000000</td>\n",
              "      <td>0.014493</td>\n",
              "      <td>0.607143</td>\n",
              "      <td>0.025616</td>\n",
              "      <td>0.000260</td>\n",
              "      <td>0.033791</td>\n",
              "      <td>0.000240</td>\n",
              "      <td>0.000211</td>\n",
              "      <td>0.028273</td>\n",
              "      <td>0.008605</td>\n",
              "      <td>0.000224</td>\n",
              "      <td>0.000214</td>\n",
              "      <td>0.018082</td>\n",
              "    </tr>\n",
              "  </tbody>\n",
              "</table>\n",
              "<p>191859 rows × 16 columns</p>\n",
              "</div>"
            ],
            "text/plain": [
              "        last_price       mid  ...   bid5tot   ask5tot\n",
              "0         0.520535  0.520992  ...  0.000180  0.009078\n",
              "1         0.303725  0.304389  ...  0.075952  0.000108\n",
              "2         0.515759  0.519561  ...  0.042676  0.035752\n",
              "3         0.115568  0.118321  ...  0.000040  0.008788\n",
              "4         0.572111  0.572996  ...  0.017236  0.026940\n",
              "...            ...       ...  ...       ...       ...\n",
              "191854    0.387775  0.389790  ...  0.008592  0.008984\n",
              "191855    0.254059  0.255725  ...  0.159883  0.132021\n",
              "191856    0.589303  0.587786  ...  0.000201  0.000209\n",
              "191857    0.394460  0.395038  ...  0.304643  0.000140\n",
              "191858    0.623687  0.625954  ...  0.000214  0.018082\n",
              "\n",
              "[191859 rows x 16 columns]"
            ]
          },
          "metadata": {
            "tags": []
          },
          "execution_count": 78
        }
      ]
    },
    {
      "cell_type": "code",
      "metadata": {
        "id": "tYwxVYv5RilP",
        "colab_type": "code",
        "outputId": "1a816ed8-73c3-466e-cefc-cb683f8a8b6e",
        "colab": {
          "base_uri": "https://localhost:8080/",
          "height": 428
        }
      },
      "source": [
        "param_test1 = {\n",
        " 'max_depth':range(3,10,2),\n",
        " 'min_child_weight':range(1,6,2)\n",
        "}\n",
        "gsearch1 = GridSearchCV(estimator = xgb.XGBRegressor( learning_rate =0.1, n_estimators=100, max_depth=3,\n",
        " min_child_weight=1, gamma=0, subsample=0.8, colsample_bytree=0.8,\n",
        " objective= 'binary:logistic', n_jobs = -1, scale_pos_weight=1, seed=27), \n",
        " param_grid = param_test1, scoring='roc_auc',n_jobs=4,iid=False, cv=3)\n",
        "gsearch1.fit(new_df,train_label)"
      ],
      "execution_count": 0,
      "outputs": [
        {
          "output_type": "stream",
          "text": [
            "/usr/local/lib/python3.6/dist-packages/sklearn/model_selection/_search.py:823: FutureWarning: The parameter 'iid' is deprecated in 0.22 and will be removed in 0.24.\n",
            "  \"removed in 0.24.\", FutureWarning\n",
            "/usr/local/lib/python3.6/dist-packages/xgboost/core.py:587: FutureWarning: Series.base is deprecated and will be removed in a future version\n",
            "  if getattr(data, 'base', None) is not None and \\\n",
            "/usr/local/lib/python3.6/dist-packages/xgboost/core.py:588: FutureWarning: Series.base is deprecated and will be removed in a future version\n",
            "  data.base is not None and isinstance(data, np.ndarray) \\\n"
          ],
          "name": "stderr"
        },
        {
          "output_type": "execute_result",
          "data": {
            "text/plain": [
              "GridSearchCV(cv=3, error_score=nan,\n",
              "             estimator=XGBRegressor(base_score=0.5, booster='gbtree',\n",
              "                                    colsample_bylevel=1, colsample_bynode=1,\n",
              "                                    colsample_bytree=0.8, gamma=0,\n",
              "                                    importance_type='gain', learning_rate=0.1,\n",
              "                                    max_delta_step=0, max_depth=3,\n",
              "                                    min_child_weight=1, missing=None,\n",
              "                                    n_estimators=100, n_jobs=-1, nthread=None,\n",
              "                                    objective='binary:logistic', random_state=0,\n",
              "                                    reg_alpha=0, reg_lambda=1,\n",
              "                                    scale_pos_weight=1, seed=27, silent=None,\n",
              "                                    subsample=0.8, verbosity=1),\n",
              "             iid=False, n_jobs=4,\n",
              "             param_grid={'max_depth': range(3, 10, 2),\n",
              "                         'min_child_weight': range(1, 6, 2)},\n",
              "             pre_dispatch='2*n_jobs', refit=True, return_train_score=False,\n",
              "             scoring='roc_auc', verbose=0)"
            ]
          },
          "metadata": {
            "tags": []
          },
          "execution_count": 86
        }
      ]
    },
    {
      "cell_type": "code",
      "metadata": {
        "id": "hsiycomXUJgL",
        "colab_type": "code",
        "colab": {}
      },
      "source": [
        "preds = gsearch1.predict(test_df)"
      ],
      "execution_count": 0,
      "outputs": []
    },
    {
      "cell_type": "code",
      "metadata": {
        "id": "KwUCYw1cgLnE",
        "colab_type": "code",
        "outputId": "83a003d7-e57c-4e5f-bc0a-7b5a19926e5f",
        "colab": {
          "base_uri": "https://localhost:8080/",
          "height": 51
        }
      },
      "source": [
        "preds"
      ],
      "execution_count": 0,
      "outputs": [
        {
          "output_type": "execute_result",
          "data": {
            "text/plain": [
              "array([0.5284759 , 0.21810246, 0.3164651 , ..., 0.3868499 , 0.41881248,\n",
              "       0.5804453 ], dtype=float32)"
            ]
          },
          "metadata": {
            "tags": []
          },
          "execution_count": 88
        }
      ]
    },
    {
      "cell_type": "code",
      "metadata": {
        "id": "3cbSst1BE7gW",
        "colab_type": "code",
        "colab": {}
      },
      "source": [
        "predictions = pd.DataFrame({'id': np.array(test_id), 'Predicted': preds}, columns=['id', 'Predicted'])\n",
        "predictions.to_csv(\"/content/predictions_XGBR_gridsearch1.csv\", index = False)"
      ],
      "execution_count": 0,
      "outputs": []
    },
    {
      "cell_type": "code",
      "metadata": {
        "id": "wbMGAaBCFBXr",
        "colab_type": "code",
        "outputId": "60845ff5-48a4-4fd5-fb20-d49f78027cdd",
        "colab": {
          "base_uri": "https://localhost:8080/",
          "height": 419
        }
      },
      "source": [
        "predictions"
      ],
      "execution_count": 0,
      "outputs": [
        {
          "output_type": "execute_result",
          "data": {
            "text/html": [
              "<div>\n",
              "<style scoped>\n",
              "    .dataframe tbody tr th:only-of-type {\n",
              "        vertical-align: middle;\n",
              "    }\n",
              "\n",
              "    .dataframe tbody tr th {\n",
              "        vertical-align: top;\n",
              "    }\n",
              "\n",
              "    .dataframe thead th {\n",
              "        text-align: right;\n",
              "    }\n",
              "</style>\n",
              "<table border=\"1\" class=\"dataframe\">\n",
              "  <thead>\n",
              "    <tr style=\"text-align: right;\">\n",
              "      <th></th>\n",
              "      <th>id</th>\n",
              "      <th>Predicted</th>\n",
              "    </tr>\n",
              "  </thead>\n",
              "  <tbody>\n",
              "    <tr>\n",
              "      <th>0</th>\n",
              "      <td>592380</td>\n",
              "      <td>0.528476</td>\n",
              "    </tr>\n",
              "    <tr>\n",
              "      <th>1</th>\n",
              "      <td>592381</td>\n",
              "      <td>0.218102</td>\n",
              "    </tr>\n",
              "    <tr>\n",
              "      <th>2</th>\n",
              "      <td>592382</td>\n",
              "      <td>0.316465</td>\n",
              "    </tr>\n",
              "    <tr>\n",
              "      <th>3</th>\n",
              "      <td>592383</td>\n",
              "      <td>0.619517</td>\n",
              "    </tr>\n",
              "    <tr>\n",
              "      <th>4</th>\n",
              "      <td>592384</td>\n",
              "      <td>0.221810</td>\n",
              "    </tr>\n",
              "    <tr>\n",
              "      <th>...</th>\n",
              "      <td>...</td>\n",
              "      <td>...</td>\n",
              "    </tr>\n",
              "    <tr>\n",
              "      <th>191854</th>\n",
              "      <td>784234</td>\n",
              "      <td>0.382271</td>\n",
              "    </tr>\n",
              "    <tr>\n",
              "      <th>191855</th>\n",
              "      <td>784235</td>\n",
              "      <td>0.249798</td>\n",
              "    </tr>\n",
              "    <tr>\n",
              "      <th>191856</th>\n",
              "      <td>784236</td>\n",
              "      <td>0.386850</td>\n",
              "    </tr>\n",
              "    <tr>\n",
              "      <th>191857</th>\n",
              "      <td>784237</td>\n",
              "      <td>0.418812</td>\n",
              "    </tr>\n",
              "    <tr>\n",
              "      <th>191858</th>\n",
              "      <td>784238</td>\n",
              "      <td>0.580445</td>\n",
              "    </tr>\n",
              "  </tbody>\n",
              "</table>\n",
              "<p>191859 rows × 2 columns</p>\n",
              "</div>"
            ],
            "text/plain": [
              "            id  Predicted\n",
              "0       592380   0.528476\n",
              "1       592381   0.218102\n",
              "2       592382   0.316465\n",
              "3       592383   0.619517\n",
              "4       592384   0.221810\n",
              "...        ...        ...\n",
              "191854  784234   0.382271\n",
              "191855  784235   0.249798\n",
              "191856  784236   0.386850\n",
              "191857  784237   0.418812\n",
              "191858  784238   0.580445\n",
              "\n",
              "[191859 rows x 2 columns]"
            ]
          },
          "metadata": {
            "tags": []
          },
          "execution_count": 90
        }
      ]
    },
    {
      "cell_type": "code",
      "metadata": {
        "id": "N7m662MQGZgD",
        "colab_type": "code",
        "colab": {}
      },
      "source": [
        "from sklearn.ensemble import BaggingRegressor"
      ],
      "execution_count": 0,
      "outputs": []
    },
    {
      "cell_type": "code",
      "metadata": {
        "id": "-O2urjwOHhLQ",
        "colab_type": "code",
        "colab": {}
      },
      "source": [
        "model = xgb.XGBClassifier(n_estimators = 100, max_depth = 3, learning_rate = 0.1, n_jobs = -1)\n",
        "clf = BaggingClassifier(base_estimator=model,\n",
        "                        n_estimators=10, random_state=0).fit(new_df,train_label)"
      ],
      "execution_count": 0,
      "outputs": []
    },
    {
      "cell_type": "code",
      "metadata": {
        "id": "54WNC5BeH7ae",
        "colab_type": "code",
        "colab": {}
      },
      "source": [
        "preds = clf.predict_proba(test_edited_df)[:, 1]\n",
        "predictions = pd.DataFrame({'id': np.array(test_id), 'Predicted': preds}, columns=['id', 'Predicted'])\n",
        "predictions.to_csv(\"/content/predictions_XGBR_baggingclass.csv\", index = False)"
      ],
      "execution_count": 0,
      "outputs": []
    },
    {
      "cell_type": "code",
      "metadata": {
        "id": "tA1Vzuc5S1lN",
        "colab_type": "code",
        "colab": {}
      },
      "source": [
        "from sklearn.model_selection import StratifiedKFold\n",
        "kfold = StratifiedKFold(n_splits=5)"
      ],
      "execution_count": 0,
      "outputs": []
    },
    {
      "cell_type": "code",
      "metadata": {
        "id": "fShUBfqiTPj9",
        "colab_type": "code",
        "colab": {}
      },
      "source": [
        "from sklearn.ensemble import AdaBoostRegressor, GradientBoostingRegressor, VotingRegressor\n",
        "from sklearn.tree import DecisionTreeRegressor\n"
      ],
      "execution_count": 0,
      "outputs": []
    },
    {
      "cell_type": "code",
      "metadata": {
        "id": "mNjeIHJKQ5K-",
        "colab_type": "code",
        "outputId": "5a15631e-a220-42e1-ee6f-9ea94454bb9e",
        "colab": {
          "base_uri": "https://localhost:8080/",
          "height": 272
        }
      },
      "source": [
        "DTC = DecisionTreeRegressor()\n",
        "\n",
        "ada_best = AdaBoostRegressor(DTC, random_state=7, n_estimators = 10,\n",
        "                            learning_rate = 0.1)\n",
        "\n",
        "ada_best.fit(new_df,train_label)\n"
      ],
      "execution_count": 0,
      "outputs": [
        {
          "output_type": "execute_result",
          "data": {
            "text/plain": [
              "AdaBoostRegressor(base_estimator=DecisionTreeRegressor(ccp_alpha=0.0,\n",
              "                                                       criterion='mse',\n",
              "                                                       max_depth=None,\n",
              "                                                       max_features=None,\n",
              "                                                       max_leaf_nodes=None,\n",
              "                                                       min_impurity_decrease=0.0,\n",
              "                                                       min_impurity_split=None,\n",
              "                                                       min_samples_leaf=1,\n",
              "                                                       min_samples_split=2,\n",
              "                                                       min_weight_fraction_leaf=0.0,\n",
              "                                                       presort='deprecated',\n",
              "                                                       random_state=None,\n",
              "                                                       splitter='best'),\n",
              "                  learning_rate=0.1, loss='linear', n_estimators=10,\n",
              "                  random_state=7)"
            ]
          },
          "metadata": {
            "tags": []
          },
          "execution_count": 187
        }
      ]
    },
    {
      "cell_type": "code",
      "metadata": {
        "id": "ajD2-sWbTK0N",
        "colab_type": "code",
        "outputId": "40994082-3321-4e43-e261-741bffc9635e",
        "colab": {
          "base_uri": "https://localhost:8080/",
          "height": 241
        }
      },
      "source": [
        "xgb_best = xgb.XGBRegressor(n_estimators = 100, max_depth = 3, learning_rate = 0.1, n_jobs = -1)\n",
        "xgb_best.fit(new_df,train_label)"
      ],
      "execution_count": 0,
      "outputs": [
        {
          "output_type": "stream",
          "text": [
            "/usr/local/lib/python3.6/dist-packages/xgboost/core.py:587: FutureWarning: Series.base is deprecated and will be removed in a future version\n",
            "  if getattr(data, 'base', None) is not None and \\\n",
            "/usr/local/lib/python3.6/dist-packages/xgboost/core.py:588: FutureWarning: Series.base is deprecated and will be removed in a future version\n",
            "  data.base is not None and isinstance(data, np.ndarray) \\\n"
          ],
          "name": "stderr"
        },
        {
          "output_type": "stream",
          "text": [
            "[08:26:41] WARNING: /workspace/src/objective/regression_obj.cu:152: reg:linear is now deprecated in favor of reg:squarederror.\n"
          ],
          "name": "stdout"
        },
        {
          "output_type": "execute_result",
          "data": {
            "text/plain": [
              "XGBRegressor(base_score=0.5, booster='gbtree', colsample_bylevel=1,\n",
              "             colsample_bynode=1, colsample_bytree=1, gamma=0,\n",
              "             importance_type='gain', learning_rate=0.1, max_delta_step=0,\n",
              "             max_depth=3, min_child_weight=1, missing=None, n_estimators=100,\n",
              "             n_jobs=-1, nthread=None, objective='reg:linear', random_state=0,\n",
              "             reg_alpha=0, reg_lambda=1, scale_pos_weight=1, seed=None,\n",
              "             silent=None, subsample=1, verbosity=1)"
            ]
          },
          "metadata": {
            "tags": []
          },
          "execution_count": 188
        }
      ]
    },
    {
      "cell_type": "code",
      "metadata": {
        "id": "blxjfc4UlXZF",
        "colab_type": "code",
        "outputId": "22a80eb0-691b-4123-cc56-4af0b723d1ad",
        "colab": {
          "base_uri": "https://localhost:8080/",
          "height": 34
        }
      },
      "source": [
        "max(ada_best.predict_proba(test_edited_df)[:, 1])"
      ],
      "execution_count": 0,
      "outputs": [
        {
          "output_type": "execute_result",
          "data": {
            "text/plain": [
              "0.9999999999999998"
            ]
          },
          "metadata": {
            "tags": []
          },
          "execution_count": 177
        }
      ]
    },
    {
      "cell_type": "code",
      "metadata": {
        "id": "jVlawZSDY0vx",
        "colab_type": "code",
        "outputId": "70198c40-b650-4054-d374-81ffbcd370fe",
        "colab": {
          "base_uri": "https://localhost:8080/",
          "height": 170
        }
      },
      "source": [
        "GBC_best = GradientBoostingRegressor(n_estimators = 100, learning_rate = 0.1,\n",
        "                                 max_depth = 3, min_samples_leaf = 20)\n",
        "GBC_best.fit(new_df,train_label)"
      ],
      "execution_count": 0,
      "outputs": [
        {
          "output_type": "execute_result",
          "data": {
            "text/plain": [
              "GradientBoostingRegressor(alpha=0.9, ccp_alpha=0.0, criterion='friedman_mse',\n",
              "                          init=None, learning_rate=0.1, loss='ls', max_depth=3,\n",
              "                          max_features=None, max_leaf_nodes=None,\n",
              "                          min_impurity_decrease=0.0, min_impurity_split=None,\n",
              "                          min_samples_leaf=20, min_samples_split=2,\n",
              "                          min_weight_fraction_leaf=0.0, n_estimators=100,\n",
              "                          n_iter_no_change=None, presort='deprecated',\n",
              "                          random_state=None, subsample=1.0, tol=0.0001,\n",
              "                          validation_fraction=0.1, verbose=0, warm_start=False)"
            ]
          },
          "metadata": {
            "tags": []
          },
          "execution_count": 190
        }
      ]
    },
    {
      "cell_type": "code",
      "metadata": {
        "id": "WyWUA5KgZrF1",
        "colab_type": "code",
        "colab": {}
      },
      "source": [
        "votingC = VotingRegressor(estimators=[('adac',ada_best),('xgb',xgb_best), ('gbc',GBC_best)], n_jobs=-1)\n",
        "\n",
        "votingC = votingC.fit(new_df,train_label)"
      ],
      "execution_count": 0,
      "outputs": []
    },
    {
      "cell_type": "code",
      "metadata": {
        "id": "q_SSFvI1aNHF",
        "colab_type": "code",
        "colab": {}
      },
      "source": [
        "preds = votingC.predict(test_edited_df)\n"
      ],
      "execution_count": 0,
      "outputs": []
    },
    {
      "cell_type": "code",
      "metadata": {
        "id": "-QF_bg7xd9fr",
        "colab_type": "code",
        "outputId": "d39484d2-5332-4075-a91c-68470cd4a3a8",
        "colab": {
          "base_uri": "https://localhost:8080/",
          "height": 51
        }
      },
      "source": [
        "preds"
      ],
      "execution_count": 0,
      "outputs": [
        {
          "output_type": "execute_result",
          "data": {
            "text/plain": [
              "array([0.40030958, 0.50520091, 0.15906132, ..., 0.65835549, 0.25100412,\n",
              "       0.27860403])"
            ]
          },
          "metadata": {
            "tags": []
          },
          "execution_count": 197
        }
      ]
    },
    {
      "cell_type": "code",
      "metadata": {
        "id": "69oCb6C-aW0J",
        "colab_type": "code",
        "colab": {}
      },
      "source": [
        "predictions = pd.DataFrame({'id': np.array(test_id), 'Predicted': preds}, columns=['id', 'Predicted'])\n",
        "predictions.to_csv(\"/content/predictions_votingregress.csv\", index = False)"
      ],
      "execution_count": 0,
      "outputs": []
    },
    {
      "cell_type": "code",
      "metadata": {
        "id": "Hl5jO2R3eHNT",
        "colab_type": "code",
        "outputId": "3424c1d3-af89-4b1f-e42e-12bcfd91ea12",
        "colab": {
          "base_uri": "https://localhost:8080/",
          "height": 439
        }
      },
      "source": [
        "new_df"
      ],
      "execution_count": 0,
      "outputs": [
        {
          "output_type": "execute_result",
          "data": {
            "text/html": [
              "<div>\n",
              "<style scoped>\n",
              "    .dataframe tbody tr th:only-of-type {\n",
              "        vertical-align: middle;\n",
              "    }\n",
              "\n",
              "    .dataframe tbody tr th {\n",
              "        vertical-align: top;\n",
              "    }\n",
              "\n",
              "    .dataframe thead th {\n",
              "        text-align: right;\n",
              "    }\n",
              "</style>\n",
              "<table border=\"1\" class=\"dataframe\">\n",
              "  <thead>\n",
              "    <tr style=\"text-align: right;\">\n",
              "      <th></th>\n",
              "      <th>last_price</th>\n",
              "      <th>mid</th>\n",
              "      <th>opened_position_qty</th>\n",
              "      <th>closed_position_qty</th>\n",
              "      <th>transacted_qty</th>\n",
              "      <th>d_open_interest</th>\n",
              "      <th>bid1_tot</th>\n",
              "      <th>bid2_tot</th>\n",
              "      <th>bid3_tot</th>\n",
              "      <th>bid4_tot</th>\n",
              "      <th>bid5_tot</th>\n",
              "      <th>ask1_tot</th>\n",
              "      <th>ask2_tot</th>\n",
              "      <th>ask3_tot</th>\n",
              "      <th>ask4_tot</th>\n",
              "      <th>ask5_tot</th>\n",
              "      <th>price_change</th>\n",
              "    </tr>\n",
              "  </thead>\n",
              "  <tbody>\n",
              "    <tr>\n",
              "      <th>0</th>\n",
              "      <td>3842.4</td>\n",
              "      <td>3842.6</td>\n",
              "      <td>1.400583</td>\n",
              "      <td>1.964277</td>\n",
              "      <td>103.0</td>\n",
              "      <td>0</td>\n",
              "      <td>30739.2</td>\n",
              "      <td>3842.0</td>\n",
              "      <td>23050.8</td>\n",
              "      <td>53774.0</td>\n",
              "      <td>23042.4</td>\n",
              "      <td>23056.8</td>\n",
              "      <td>3843.4</td>\n",
              "      <td>3843.6</td>\n",
              "      <td>38438.0</td>\n",
              "      <td>7688.0</td>\n",
              "      <td>0.2</td>\n",
              "    </tr>\n",
              "    <tr>\n",
              "      <th>1</th>\n",
              "      <td>3842.8</td>\n",
              "      <td>3843.4</td>\n",
              "      <td>6.000000</td>\n",
              "      <td>49.000000</td>\n",
              "      <td>55.0</td>\n",
              "      <td>-43</td>\n",
              "      <td>26901.0</td>\n",
              "      <td>23056.8</td>\n",
              "      <td>42266.4</td>\n",
              "      <td>3842.0</td>\n",
              "      <td>23050.8</td>\n",
              "      <td>3843.8</td>\n",
              "      <td>15376.0</td>\n",
              "      <td>15377.6</td>\n",
              "      <td>3844.6</td>\n",
              "      <td>49982.4</td>\n",
              "      <td>0.6</td>\n",
              "    </tr>\n",
              "    <tr>\n",
              "      <th>2</th>\n",
              "      <td>3844.0</td>\n",
              "      <td>3844.3</td>\n",
              "      <td>7.000000</td>\n",
              "      <td>77.000000</td>\n",
              "      <td>84.0</td>\n",
              "      <td>-69</td>\n",
              "      <td>11531.4</td>\n",
              "      <td>3843.6</td>\n",
              "      <td>15372.8</td>\n",
              "      <td>80703.0</td>\n",
              "      <td>46113.6</td>\n",
              "      <td>3844.8</td>\n",
              "      <td>61520.0</td>\n",
              "      <td>38454.0</td>\n",
              "      <td>15382.4</td>\n",
              "      <td>34612.2</td>\n",
              "      <td>0.3</td>\n",
              "    </tr>\n",
              "    <tr>\n",
              "      <th>3</th>\n",
              "      <td>3843.8</td>\n",
              "      <td>3843.4</td>\n",
              "      <td>3.000000</td>\n",
              "      <td>34.000000</td>\n",
              "      <td>37.0</td>\n",
              "      <td>-30</td>\n",
              "      <td>38430.0</td>\n",
              "      <td>49956.4</td>\n",
              "      <td>46108.8</td>\n",
              "      <td>7684.0</td>\n",
              "      <td>15365.6</td>\n",
              "      <td>7687.6</td>\n",
              "      <td>26908.0</td>\n",
              "      <td>3844.4</td>\n",
              "      <td>7689.2</td>\n",
              "      <td>42292.8</td>\n",
              "      <td>-0.4</td>\n",
              "    </tr>\n",
              "    <tr>\n",
              "      <th>4</th>\n",
              "      <td>3843.2</td>\n",
              "      <td>3843.1</td>\n",
              "      <td>3.000000</td>\n",
              "      <td>38.000000</td>\n",
              "      <td>41.0</td>\n",
              "      <td>-35</td>\n",
              "      <td>53799.2</td>\n",
              "      <td>46108.8</td>\n",
              "      <td>7684.0</td>\n",
              "      <td>7683.6</td>\n",
              "      <td>15365.6</td>\n",
              "      <td>3843.4</td>\n",
              "      <td>11532.0</td>\n",
              "      <td>3844.6</td>\n",
              "      <td>42292.8</td>\n",
              "      <td>57675.0</td>\n",
              "      <td>-0.1</td>\n",
              "    </tr>\n",
              "    <tr>\n",
              "      <th>...</th>\n",
              "      <td>...</td>\n",
              "      <td>...</td>\n",
              "      <td>...</td>\n",
              "      <td>...</td>\n",
              "      <td>...</td>\n",
              "      <td>...</td>\n",
              "      <td>...</td>\n",
              "      <td>...</td>\n",
              "      <td>...</td>\n",
              "      <td>...</td>\n",
              "      <td>...</td>\n",
              "      <td>...</td>\n",
              "      <td>...</td>\n",
              "      <td>...</td>\n",
              "      <td>...</td>\n",
              "      <td>...</td>\n",
              "      <td>...</td>\n",
              "    </tr>\n",
              "    <tr>\n",
              "      <th>592375</th>\n",
              "      <td>4110.2</td>\n",
              "      <td>4110.3</td>\n",
              "      <td>1.000000</td>\n",
              "      <td>1.000000</td>\n",
              "      <td>2.0</td>\n",
              "      <td>1</td>\n",
              "      <td>8220.4</td>\n",
              "      <td>8220.0</td>\n",
              "      <td>4109.4</td>\n",
              "      <td>12327.6</td>\n",
              "      <td>8218.0</td>\n",
              "      <td>8220.8</td>\n",
              "      <td>12335.4</td>\n",
              "      <td>41120.0</td>\n",
              "      <td>28785.4</td>\n",
              "      <td>28788.2</td>\n",
              "      <td>0.1</td>\n",
              "    </tr>\n",
              "    <tr>\n",
              "      <th>592376</th>\n",
              "      <td>4109.4</td>\n",
              "      <td>4110.5</td>\n",
              "      <td>6.000000</td>\n",
              "      <td>5.000000</td>\n",
              "      <td>11.0</td>\n",
              "      <td>1</td>\n",
              "      <td>12327.6</td>\n",
              "      <td>8218.0</td>\n",
              "      <td>8217.2</td>\n",
              "      <td>24649.2</td>\n",
              "      <td>20540.0</td>\n",
              "      <td>12335.4</td>\n",
              "      <td>37008.0</td>\n",
              "      <td>28785.4</td>\n",
              "      <td>28788.2</td>\n",
              "      <td>20565.0</td>\n",
              "      <td>1.1</td>\n",
              "    </tr>\n",
              "    <tr>\n",
              "      <th>592377</th>\n",
              "      <td>4109.4</td>\n",
              "      <td>4110.5</td>\n",
              "      <td>1.400583</td>\n",
              "      <td>1.964277</td>\n",
              "      <td>0.0</td>\n",
              "      <td>0</td>\n",
              "      <td>12327.6</td>\n",
              "      <td>8218.0</td>\n",
              "      <td>8217.2</td>\n",
              "      <td>24649.2</td>\n",
              "      <td>20540.0</td>\n",
              "      <td>12335.4</td>\n",
              "      <td>37008.0</td>\n",
              "      <td>28785.4</td>\n",
              "      <td>28788.2</td>\n",
              "      <td>20565.0</td>\n",
              "      <td>1.1</td>\n",
              "    </tr>\n",
              "    <tr>\n",
              "      <th>592378</th>\n",
              "      <td>4109.4</td>\n",
              "      <td>4110.5</td>\n",
              "      <td>1.400583</td>\n",
              "      <td>1.964277</td>\n",
              "      <td>0.0</td>\n",
              "      <td>0</td>\n",
              "      <td>12327.6</td>\n",
              "      <td>8218.0</td>\n",
              "      <td>8217.2</td>\n",
              "      <td>24649.2</td>\n",
              "      <td>20540.0</td>\n",
              "      <td>12335.4</td>\n",
              "      <td>37008.0</td>\n",
              "      <td>28785.4</td>\n",
              "      <td>28788.2</td>\n",
              "      <td>20565.0</td>\n",
              "      <td>1.1</td>\n",
              "    </tr>\n",
              "    <tr>\n",
              "      <th>592379</th>\n",
              "      <td>4109.4</td>\n",
              "      <td>4110.5</td>\n",
              "      <td>1.400583</td>\n",
              "      <td>1.964277</td>\n",
              "      <td>0.0</td>\n",
              "      <td>0</td>\n",
              "      <td>12327.6</td>\n",
              "      <td>8218.0</td>\n",
              "      <td>8217.2</td>\n",
              "      <td>24649.2</td>\n",
              "      <td>20540.0</td>\n",
              "      <td>12335.4</td>\n",
              "      <td>37008.0</td>\n",
              "      <td>28785.4</td>\n",
              "      <td>28788.2</td>\n",
              "      <td>20565.0</td>\n",
              "      <td>1.1</td>\n",
              "    </tr>\n",
              "  </tbody>\n",
              "</table>\n",
              "<p>592380 rows × 17 columns</p>\n",
              "</div>"
            ],
            "text/plain": [
              "        last_price     mid  ...  ask5_tot  price_change\n",
              "0           3842.4  3842.6  ...    7688.0           0.2\n",
              "1           3842.8  3843.4  ...   49982.4           0.6\n",
              "2           3844.0  3844.3  ...   34612.2           0.3\n",
              "3           3843.8  3843.4  ...   42292.8          -0.4\n",
              "4           3843.2  3843.1  ...   57675.0          -0.1\n",
              "...            ...     ...  ...       ...           ...\n",
              "592375      4110.2  4110.3  ...   28788.2           0.1\n",
              "592376      4109.4  4110.5  ...   20565.0           1.1\n",
              "592377      4109.4  4110.5  ...   20565.0           1.1\n",
              "592378      4109.4  4110.5  ...   20565.0           1.1\n",
              "592379      4109.4  4110.5  ...   20565.0           1.1\n",
              "\n",
              "[592380 rows x 17 columns]"
            ]
          },
          "metadata": {
            "tags": []
          },
          "execution_count": 199
        }
      ]
    },
    {
      "cell_type": "code",
      "metadata": {
        "id": "BUOvW_6gvteE",
        "colab_type": "code",
        "outputId": "75ffa0aa-af72-42bc-ad8d-663e2eec1e58",
        "colab": {
          "base_uri": "https://localhost:8080/",
          "height": 439
        }
      },
      "source": [
        "test_edited_df"
      ],
      "execution_count": 0,
      "outputs": [
        {
          "output_type": "execute_result",
          "data": {
            "text/html": [
              "<div>\n",
              "<style scoped>\n",
              "    .dataframe tbody tr th:only-of-type {\n",
              "        vertical-align: middle;\n",
              "    }\n",
              "\n",
              "    .dataframe tbody tr th {\n",
              "        vertical-align: top;\n",
              "    }\n",
              "\n",
              "    .dataframe thead th {\n",
              "        text-align: right;\n",
              "    }\n",
              "</style>\n",
              "<table border=\"1\" class=\"dataframe\">\n",
              "  <thead>\n",
              "    <tr style=\"text-align: right;\">\n",
              "      <th></th>\n",
              "      <th>last_price</th>\n",
              "      <th>mid</th>\n",
              "      <th>opened_position_qty</th>\n",
              "      <th>closed_position_qty</th>\n",
              "      <th>transacted_qty</th>\n",
              "      <th>d_open_interest</th>\n",
              "      <th>bid1_tot</th>\n",
              "      <th>bid2_tot</th>\n",
              "      <th>bid3_tot</th>\n",
              "      <th>bid4_tot</th>\n",
              "      <th>bid5_tot</th>\n",
              "      <th>ask1_tot</th>\n",
              "      <th>ask2_tot</th>\n",
              "      <th>ask3_tot</th>\n",
              "      <th>ask4_tot</th>\n",
              "      <th>ask5_tot</th>\n",
              "      <th>price_change</th>\n",
              "    </tr>\n",
              "  </thead>\n",
              "  <tbody>\n",
              "    <tr>\n",
              "      <th>0</th>\n",
              "      <td>5178.4</td>\n",
              "      <td>5178.3</td>\n",
              "      <td>1.000000</td>\n",
              "      <td>11.000000</td>\n",
              "      <td>12.0</td>\n",
              "      <td>-10</td>\n",
              "      <td>15534.6</td>\n",
              "      <td>82848.0</td>\n",
              "      <td>15533.4</td>\n",
              "      <td>5177.6</td>\n",
              "      <td>5177.4</td>\n",
              "      <td>5178.4</td>\n",
              "      <td>20714.4</td>\n",
              "      <td>5178.8</td>\n",
              "      <td>25895.0</td>\n",
              "      <td>10359.6</td>\n",
              "      <td>-1.000000e-01</td>\n",
              "    </tr>\n",
              "    <tr>\n",
              "      <th>1</th>\n",
              "      <td>5133.0</td>\n",
              "      <td>5132.9</td>\n",
              "      <td>1.000000</td>\n",
              "      <td>0.000000</td>\n",
              "      <td>1.0</td>\n",
              "      <td>1</td>\n",
              "      <td>5132.8</td>\n",
              "      <td>10265.2</td>\n",
              "      <td>10264.8</td>\n",
              "      <td>5132.2</td>\n",
              "      <td>51320.0</td>\n",
              "      <td>20532.0</td>\n",
              "      <td>41065.6</td>\n",
              "      <td>5133.8</td>\n",
              "      <td>5134.0</td>\n",
              "      <td>5134.2</td>\n",
              "      <td>-1.000000e-01</td>\n",
              "    </tr>\n",
              "    <tr>\n",
              "      <th>2</th>\n",
              "      <td>5177.4</td>\n",
              "      <td>5178.0</td>\n",
              "      <td>2.000000</td>\n",
              "      <td>0.000000</td>\n",
              "      <td>2.0</td>\n",
              "      <td>2</td>\n",
              "      <td>41417.6</td>\n",
              "      <td>93182.4</td>\n",
              "      <td>5176.6</td>\n",
              "      <td>5176.4</td>\n",
              "      <td>31056.0</td>\n",
              "      <td>36251.6</td>\n",
              "      <td>20716.0</td>\n",
              "      <td>5179.2</td>\n",
              "      <td>10358.8</td>\n",
              "      <td>25898.0</td>\n",
              "      <td>6.000000e-01</td>\n",
              "    </tr>\n",
              "    <tr>\n",
              "      <th>3</th>\n",
              "      <td>5093.6</td>\n",
              "      <td>5093.9</td>\n",
              "      <td>0.000000</td>\n",
              "      <td>2.000000</td>\n",
              "      <td>2.0</td>\n",
              "      <td>-1</td>\n",
              "      <td>40745.6</td>\n",
              "      <td>25465.0</td>\n",
              "      <td>20371.2</td>\n",
              "      <td>15276.6</td>\n",
              "      <td>5092.0</td>\n",
              "      <td>5094.6</td>\n",
              "      <td>5094.8</td>\n",
              "      <td>56045.0</td>\n",
              "      <td>30571.2</td>\n",
              "      <td>10190.8</td>\n",
              "      <td>3.000000e-01</td>\n",
              "    </tr>\n",
              "    <tr>\n",
              "      <th>4</th>\n",
              "      <td>5189.2</td>\n",
              "      <td>5189.2</td>\n",
              "      <td>1.444629</td>\n",
              "      <td>1.936579</td>\n",
              "      <td>0.0</td>\n",
              "      <td>0</td>\n",
              "      <td>5188.8</td>\n",
              "      <td>25943.0</td>\n",
              "      <td>5188.4</td>\n",
              "      <td>15564.6</td>\n",
              "      <td>15564.0</td>\n",
              "      <td>15568.8</td>\n",
              "      <td>10381.2</td>\n",
              "      <td>5190.8</td>\n",
              "      <td>15573.0</td>\n",
              "      <td>20764.8</td>\n",
              "      <td>1.818989e-12</td>\n",
              "    </tr>\n",
              "    <tr>\n",
              "      <th>...</th>\n",
              "      <td>...</td>\n",
              "      <td>...</td>\n",
              "      <td>...</td>\n",
              "      <td>...</td>\n",
              "      <td>...</td>\n",
              "      <td>...</td>\n",
              "      <td>...</td>\n",
              "      <td>...</td>\n",
              "      <td>...</td>\n",
              "      <td>...</td>\n",
              "      <td>...</td>\n",
              "      <td>...</td>\n",
              "      <td>...</td>\n",
              "      <td>...</td>\n",
              "      <td>...</td>\n",
              "      <td>...</td>\n",
              "      <td>...</td>\n",
              "    </tr>\n",
              "    <tr>\n",
              "      <th>191854</th>\n",
              "      <td>5150.6</td>\n",
              "      <td>5150.8</td>\n",
              "      <td>1.444629</td>\n",
              "      <td>1.936579</td>\n",
              "      <td>0.0</td>\n",
              "      <td>0</td>\n",
              "      <td>5150.6</td>\n",
              "      <td>25752.0</td>\n",
              "      <td>15450.6</td>\n",
              "      <td>20600.0</td>\n",
              "      <td>10299.6</td>\n",
              "      <td>5151.0</td>\n",
              "      <td>15454.2</td>\n",
              "      <td>5151.6</td>\n",
              "      <td>15456.0</td>\n",
              "      <td>10304.8</td>\n",
              "      <td>2.000000e-01</td>\n",
              "    </tr>\n",
              "    <tr>\n",
              "      <th>191855</th>\n",
              "      <td>5122.6</td>\n",
              "      <td>5122.7</td>\n",
              "      <td>1.000000</td>\n",
              "      <td>2.000000</td>\n",
              "      <td>3.0</td>\n",
              "      <td>-1</td>\n",
              "      <td>15367.8</td>\n",
              "      <td>5122.4</td>\n",
              "      <td>25611.0</td>\n",
              "      <td>5121.8</td>\n",
              "      <td>102432.0</td>\n",
              "      <td>81964.8</td>\n",
              "      <td>87091.0</td>\n",
              "      <td>20492.8</td>\n",
              "      <td>5123.4</td>\n",
              "      <td>81977.6</td>\n",
              "      <td>1.000000e-01</td>\n",
              "    </tr>\n",
              "    <tr>\n",
              "      <th>191856</th>\n",
              "      <td>5192.8</td>\n",
              "      <td>5192.3</td>\n",
              "      <td>1.444629</td>\n",
              "      <td>1.936579</td>\n",
              "      <td>0.0</td>\n",
              "      <td>0</td>\n",
              "      <td>5192.0</td>\n",
              "      <td>10383.6</td>\n",
              "      <td>5191.2</td>\n",
              "      <td>5190.4</td>\n",
              "      <td>5190.2</td>\n",
              "      <td>5192.6</td>\n",
              "      <td>10385.6</td>\n",
              "      <td>5193.0</td>\n",
              "      <td>10386.4</td>\n",
              "      <td>5193.4</td>\n",
              "      <td>-5.000000e-01</td>\n",
              "    </tr>\n",
              "    <tr>\n",
              "      <th>191857</th>\n",
              "      <td>5152.0</td>\n",
              "      <td>5151.9</td>\n",
              "      <td>4.000000</td>\n",
              "      <td>2.000000</td>\n",
              "      <td>6.0</td>\n",
              "      <td>2</td>\n",
              "      <td>20607.2</td>\n",
              "      <td>25758.0</td>\n",
              "      <td>30908.4</td>\n",
              "      <td>41209.6</td>\n",
              "      <td>190587.0</td>\n",
              "      <td>36064.0</td>\n",
              "      <td>5152.2</td>\n",
              "      <td>10304.8</td>\n",
              "      <td>5152.6</td>\n",
              "      <td>5152.8</td>\n",
              "      <td>-1.000000e-01</td>\n",
              "    </tr>\n",
              "    <tr>\n",
              "      <th>191858</th>\n",
              "      <td>5200.0</td>\n",
              "      <td>5200.3</td>\n",
              "      <td>2.000000</td>\n",
              "      <td>0.000000</td>\n",
              "      <td>2.0</td>\n",
              "      <td>2</td>\n",
              "      <td>20800.0</td>\n",
              "      <td>25995.0</td>\n",
              "      <td>5198.8</td>\n",
              "      <td>10397.2</td>\n",
              "      <td>5198.2</td>\n",
              "      <td>5200.6</td>\n",
              "      <td>5200.8</td>\n",
              "      <td>20804.8</td>\n",
              "      <td>5201.4</td>\n",
              "      <td>15604.8</td>\n",
              "      <td>3.000000e-01</td>\n",
              "    </tr>\n",
              "  </tbody>\n",
              "</table>\n",
              "<p>191859 rows × 17 columns</p>\n",
              "</div>"
            ],
            "text/plain": [
              "        last_price     mid  ...  ask5_tot  price_change\n",
              "0           5178.4  5178.3  ...   10359.6 -1.000000e-01\n",
              "1           5133.0  5132.9  ...    5134.2 -1.000000e-01\n",
              "2           5177.4  5178.0  ...   25898.0  6.000000e-01\n",
              "3           5093.6  5093.9  ...   10190.8  3.000000e-01\n",
              "4           5189.2  5189.2  ...   20764.8  1.818989e-12\n",
              "...            ...     ...  ...       ...           ...\n",
              "191854      5150.6  5150.8  ...   10304.8  2.000000e-01\n",
              "191855      5122.6  5122.7  ...   81977.6  1.000000e-01\n",
              "191856      5192.8  5192.3  ...    5193.4 -5.000000e-01\n",
              "191857      5152.0  5151.9  ...    5152.8 -1.000000e-01\n",
              "191858      5200.0  5200.3  ...   15604.8  3.000000e-01\n",
              "\n",
              "[191859 rows x 17 columns]"
            ]
          },
          "metadata": {
            "tags": []
          },
          "execution_count": 206
        }
      ]
    },
    {
      "cell_type": "code",
      "metadata": {
        "id": "fcTXYnlivv7-",
        "colab_type": "code",
        "colab": {}
      },
      "source": [
        ""
      ],
      "execution_count": 0,
      "outputs": []
    }
  ]
}